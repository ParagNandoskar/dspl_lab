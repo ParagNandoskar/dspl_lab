{
 "cells": [
  {
   "cell_type": "code",
   "execution_count": 1,
   "id": "fdab4410-c9dc-4f04-a8d1-fd7ce9703a99",
   "metadata": {},
   "outputs": [],
   "source": [
    "\n",
    "import pandas as pd\n",
    "import numpy as np"
   ]
  },
  {
   "cell_type": "code",
   "execution_count": 2,
   "id": "349eeb66-6e9f-4205-9235-62af76187b53",
   "metadata": {},
   "outputs": [],
   "source": [
    "df = pd.read_csv(\"./stroke_risk_dataset.csv\") "
   ]
  },
  {
   "cell_type": "code",
   "execution_count": null,
   "id": "d382b9ac-d9a4-4cd3-8f01-bec3d3744889",
   "metadata": {},
   "outputs": [],
   "source": []
  }
 ],
 "metadata": {
  "kernelspec": {
   "display_name": "Python 3 (ipykernel)",
   "language": "python",
   "name": "python3"
  },
  "language_info": {
   "codemirror_mode": {
    "name": "ipython",
    "version": 3
   },
   "file_extension": ".py",
   "mimetype": "text/x-python",
   "name": "python",
   "nbconvert_exporter": "python",
   "pygments_lexer": "ipython3",
   "version": "3.13.2"
  }
 },
 "nbformat": 4,
 "nbformat_minor": 5
}
